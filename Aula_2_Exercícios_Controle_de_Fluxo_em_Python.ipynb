{
  "nbformat": 4,
  "nbformat_minor": 0,
  "metadata": {
    "colab": {
      "provenance": [],
      "collapsed_sections": [],
      "authorship_tag": "ABX9TyOn0zQnphdmshKeTqJXDv+o",
      "include_colab_link": true
    },
    "kernelspec": {
      "name": "python3",
      "display_name": "Python 3"
    },
    "language_info": {
      "name": "python"
    }
  },
  "cells": [
    {
      "cell_type": "markdown",
      "metadata": {
        "id": "view-in-github",
        "colab_type": "text"
      },
      "source": [
        "<a href=\"https://colab.research.google.com/github/AMorlin/dio-desafio-github/blob/main/Aula_2_Exerc%C3%ADcios_Controle_de_Fluxo_em_Python.ipynb\" target=\"_parent\"><img src=\"https://colab.research.google.com/assets/colab-badge.svg\" alt=\"Open In Colab\"/></a>"
      ]
    },
    {
      "cell_type": "markdown",
      "source": [
        "**Questão #1**\n",
        "\n",
        "Faça um programa que leia dois números e informe o maior deles."
      ],
      "metadata": {
        "id": "u9ooX1FpHAm2"
      }
    },
    {
      "cell_type": "code",
      "execution_count": null,
      "metadata": {
        "colab": {
          "base_uri": "https://localhost:8080/"
        },
        "id": "PHzd6j-wGy6S",
        "outputId": "ef2a66d8-ad2d-4403-8fbc-1bd6964804a8"
      },
      "outputs": [
        {
          "output_type": "stream",
          "name": "stdout",
          "text": [
            "Digite um número: 2\n",
            "Digite outro número: 2\n",
            "Os números são iguais\n"
          ]
        }
      ],
      "source": [
        "numero1 = float(input(\"Digite um número: \"))\n",
        "numero2 = float(input(\"Digite outro número: \"))\n",
        "\n",
        "if numero1 > numero2:\n",
        "    print(f\"O maior deles é o número: {numero1}\")\n",
        "elif numero1 < numero2:\n",
        "    print(f\" O maior deles é o número: {numero2}\")\n",
        "else:\n",
        "    print(f\"Os números são iguais.\")\n"
      ]
    },
    {
      "cell_type": "markdown",
      "source": [
        "**Questão #2**\n",
        "\n",
        "Faça um código que leia um número e informe se ele é par ou ímpar."
      ],
      "metadata": {
        "id": "J0Kxbi0CG96-"
      }
    },
    {
      "cell_type": "code",
      "source": [
        "numero = int(input(\"Digite um número: \"))\n",
        "\n",
        "if numero%2 > 0:\n",
        "    print(f\"O número {numero} é impar.\")\n",
        "else:\n",
        "    print(f\"O número {numero} é par.\")"
      ],
      "metadata": {
        "colab": {
          "base_uri": "https://localhost:8080/"
        },
        "id": "LJ7oDhiqQZaB",
        "outputId": "38192ada-9eda-455a-ce14-28abae95610b"
      },
      "execution_count": null,
      "outputs": [
        {
          "output_type": "stream",
          "name": "stdout",
          "text": [
            "Digite um número: 1425\n",
            "O número 1425 é impar\n"
          ]
        }
      ]
    },
    {
      "cell_type": "markdown",
      "source": [
        "**Questão #3**\n",
        "\n",
        "Faça um programa que receba 3 notas de prova de um aluno, calcule a média e diga se ele foi aprovado ou reprovado. A média para aprovação é de pelo menos 6 (aprovado se média maior ou igual a 6)."
      ],
      "metadata": {
        "id": "Reb4zAETRbbP"
      }
    },
    {
      "cell_type": "code",
      "source": [
        "nota1 = float(input(\"Digite a primeira nota: \"))\n",
        "nota2 = float(input(\"Digite a segunda nota: \"))\n",
        "nota3 = float(input(\"Digite a terceira nota: \"))\n",
        "\n",
        "media = (nota1 + nota2 + nota3) / 3\n",
        "\n",
        "if media >= 6:\n",
        "    print(f\"A média foi {media}. Aluno APROVADO\")\n",
        "else:\n",
        "    print(f\"A média foi {media}. Aluno REPROVADO\")\n"
      ],
      "metadata": {
        "colab": {
          "base_uri": "https://localhost:8080/"
        },
        "id": "-qvog9ILRfIa",
        "outputId": "88497c75-600b-4739-ef74-2acf5642d4c2"
      },
      "execution_count": null,
      "outputs": [
        {
          "output_type": "stream",
          "name": "stdout",
          "text": [
            "Digite a primeira nota: 7\n",
            "Digite a segunda nota: 8\n",
            "Digite a terceira nota: 9\n",
            "8.0\n",
            "A média foi 8.0. Aluno APROVADO\n"
          ]
        }
      ]
    },
    {
      "cell_type": "markdown",
      "source": [
        "**Questão #4**\n",
        "\n",
        "Uma empresa irá aplicar um reajuste nos salários de seus funcionários de acordo com as seguintes regras:\n",
        "\n",
        "Salário até R$2800,00 (incluindo): aumento de 20%;\n",
        "\n",
        "Salários entre R 2800,00 e R$7000,00: aumento de 15%;\n",
        "\n",
        "Salários entre R 7000,00 e R$15000,00: aumento de 10%;\n",
        "\n",
        "Salários de R$15000,00 em diante: aumento de 5%.\n",
        "\n",
        "Dado o salário de um funcionário, informe: o salário antes do reajuste; o percentual de aumento aplicado; o valor do aumento e o novo salário."
      ],
      "metadata": {
        "id": "kGGmpgtCS_sk"
      }
    },
    {
      "cell_type": "code",
      "source": [
        "salario = float(input(\"Digite o salário do funcionário: \"))\n",
        "\n",
        "if salario >= 15000.00:\n",
        "    salario_reajustado = salario*1.05\n",
        "    print(f\"Salário antes do reajuste: R$ {salario}.\")\n",
        "    print(f\"Percentual de aumento aplicado: 5%.\")\n",
        "    print(f\"Valor do aumento: R$ {(salario*0.05):.2f}.\")\n",
        "    print(f\"Novo salário: R$ {salario_reajustado:.2f}.\")\n",
        "elif 7000.01 <= salario and salario <= 14999.99:\n",
        "    salario_reajustado = salario*1.1\n",
        "    print(f\"Salário antes do reajuste: R$ {salario}.\")\n",
        "    print(f\"Percentual de aumento aplicado: 10%.\")\n",
        "    print(f\"Valor do aumento: R$ {(salario*0.1):.2f}.\")\n",
        "    print(f\"Novo salário: R$ {salario_reajustado:.2f}.\")\n",
        "elif 2800.01 <= salario and salario <= 6999.99:\n",
        "    salario_reajustado = salario*1.15\n",
        "    print(f\"Salário antes do reajuste: R$ {salario}.\")\n",
        "    print(f\"Percentual de aumento aplicado: 15%.\")\n",
        "    print(f\"Valor do aumento: R$ {(salario*0.15):.2f}.\")\n",
        "    print(f\"Novo salário: R$ {salario_reajustado:.2f}.\")\n",
        "else:\n",
        "    salario_reajustado = salario*1.20\n",
        "    print(f\"Salário antes do reajuste: R$ {salario}.\")\n",
        "    print(f\"Percentual de aumento aplicado: 20%.\")\n",
        "    print(f\"Valor do aumento: R$ {(salario*0.20):.2f}.\")\n",
        "    print(f\"Novo salário: R$ {salario_reajustado:.2f}.\")\n"
      ],
      "metadata": {
        "colab": {
          "base_uri": "https://localhost:8080/"
        },
        "id": "8kfs-1tzTCbT",
        "outputId": "a0c996d4-a7ca-45b7-fba2-87cd4af47fcc"
      },
      "execution_count": null,
      "outputs": [
        {
          "output_type": "stream",
          "name": "stdout",
          "text": [
            "Digite o salário do funcionário: 20000\n",
            "Salário antes do reajuste: R$ 20000.0.\n",
            "Percentual de aumento aplicado: 5%.\n",
            "Valor do aumento: R$ 1000.00.\n",
            "Novo salário: R$ 21000.00.\n"
          ]
        }
      ]
    }
  ]
}